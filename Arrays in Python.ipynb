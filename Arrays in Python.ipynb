{
 "cells": [
  {
   "cell_type": "code",
   "execution_count": 1,
   "id": "437bbdb7",
   "metadata": {},
   "outputs": [],
   "source": [
    "l = [3213213, 213123, 1233124512, 12312321]"
   ]
  },
  {
   "cell_type": "code",
   "execution_count": 2,
   "id": "b1cca6d2",
   "metadata": {},
   "outputs": [
    {
     "data": {
      "text/plain": [
       "[3213213, 213123, 1233124512, 12312321]"
      ]
     },
     "execution_count": 2,
     "metadata": {},
     "output_type": "execute_result"
    }
   ],
   "source": [
    "l"
   ]
  },
  {
   "cell_type": "code",
   "execution_count": 3,
   "id": "28a3841e",
   "metadata": {},
   "outputs": [],
   "source": [
    "import numpy as np #Numby array can't havve different types on a numpy array (like Vector in R)"
   ]
  },
  {
   "cell_type": "code",
   "execution_count": 5,
   "id": "b92dcb42",
   "metadata": {},
   "outputs": [],
   "source": [
    "a = np.array(l)"
   ]
  },
  {
   "cell_type": "code",
   "execution_count": 6,
   "id": "1d75b38a",
   "metadata": {},
   "outputs": [
    {
     "data": {
      "text/plain": [
       "array([   3213213,     213123, 1233124512,   12312321])"
      ]
     },
     "execution_count": 6,
     "metadata": {},
     "output_type": "execute_result"
    }
   ],
   "source": [
    "a"
   ]
  },
  {
   "cell_type": "code",
   "execution_count": 7,
   "id": "b66d348a",
   "metadata": {},
   "outputs": [
    {
     "data": {
      "text/plain": [
       "numpy.ndarray"
      ]
     },
     "execution_count": 7,
     "metadata": {},
     "output_type": "execute_result"
    }
   ],
   "source": [
    "type(a)"
   ]
  },
  {
   "cell_type": "code",
   "execution_count": 8,
   "id": "6fcab005",
   "metadata": {},
   "outputs": [],
   "source": [
    "b = np.array([12, 455, 63.3, True, \"abc\"])"
   ]
  },
  {
   "cell_type": "code",
   "execution_count": 9,
   "id": "2edfe409",
   "metadata": {},
   "outputs": [
    {
     "data": {
      "text/plain": [
       "array(['12', '455', '63.3', 'True', 'abc'], dtype='<U32')"
      ]
     },
     "execution_count": 9,
     "metadata": {},
     "output_type": "execute_result"
    }
   ],
   "source": [
    "b"
   ]
  },
  {
   "cell_type": "code",
   "execution_count": 10,
   "id": "d676dd94",
   "metadata": {},
   "outputs": [
    {
     "name": "stdout",
     "output_type": "stream",
     "text": [
      "['12' '455' '63.3' 'True' 'abc']\n"
     ]
    }
   ],
   "source": [
    "print(b)"
   ]
  },
  {
   "cell_type": "code",
   "execution_count": 11,
   "id": "d36b62ce",
   "metadata": {},
   "outputs": [
    {
     "data": {
      "text/plain": [
       "12312321"
      ]
     },
     "execution_count": 11,
     "metadata": {},
     "output_type": "execute_result"
    }
   ],
   "source": [
    "l.pop()"
   ]
  },
  {
   "cell_type": "code",
   "execution_count": 12,
   "id": "95c930e9",
   "metadata": {},
   "outputs": [
    {
     "data": {
      "text/plain": [
       "[3213213, 213123, 1233124512]"
      ]
     },
     "execution_count": 12,
     "metadata": {},
     "output_type": "execute_result"
    }
   ],
   "source": [
    "l"
   ]
  },
  {
   "cell_type": "code",
   "execution_count": 13,
   "id": "94b26b31",
   "metadata": {},
   "outputs": [
    {
     "data": {
      "text/plain": [
       "312215792.25"
      ]
     },
     "execution_count": 13,
     "metadata": {},
     "output_type": "execute_result"
    }
   ],
   "source": [
    "a.mean()"
   ]
  },
  {
   "cell_type": "code",
   "execution_count": 14,
   "id": "f38ab1e1",
   "metadata": {},
   "outputs": [],
   "source": [
    "b = np.array([12, \"s\", False, True, \"abc\"])"
   ]
  },
  {
   "cell_type": "code",
   "execution_count": 15,
   "id": "aa13cbc4",
   "metadata": {},
   "outputs": [
    {
     "data": {
      "text/plain": [
       "array(['12', 's', 'False', 'True', 'abc'], dtype='<U21')"
      ]
     },
     "execution_count": 15,
     "metadata": {},
     "output_type": "execute_result"
    }
   ],
   "source": [
    "b"
   ]
  },
  {
   "cell_type": "code",
   "execution_count": 16,
   "id": "696ac26b",
   "metadata": {},
   "outputs": [],
   "source": [
    "b = np.array([False, True, \"abc\"])"
   ]
  },
  {
   "cell_type": "code",
   "execution_count": 17,
   "id": "4a89482b",
   "metadata": {},
   "outputs": [
    {
     "data": {
      "text/plain": [
       "array(['False', 'True', 'abc'], dtype='<U5')"
      ]
     },
     "execution_count": 17,
     "metadata": {},
     "output_type": "execute_result"
    }
   ],
   "source": [
    "b"
   ]
  },
  {
   "cell_type": "code",
   "execution_count": 18,
   "id": "951ea310",
   "metadata": {},
   "outputs": [
    {
     "data": {
      "text/plain": [
       "array([   3213213,     213123, 1233124512,   12312321])"
      ]
     },
     "execution_count": 18,
     "metadata": {},
     "output_type": "execute_result"
    }
   ],
   "source": [
    "a"
   ]
  },
  {
   "cell_type": "code",
   "execution_count": 19,
   "id": "1853d515",
   "metadata": {},
   "outputs": [
    {
     "data": {
      "text/plain": [
       "array([3213213,  213123])"
      ]
     },
     "execution_count": 19,
     "metadata": {},
     "output_type": "execute_result"
    }
   ],
   "source": [
    "a[0:2]"
   ]
  },
  {
   "cell_type": "code",
   "execution_count": 20,
   "id": "918720b5",
   "metadata": {},
   "outputs": [
    {
     "data": {
      "text/plain": [
       "array([   3213213,     213123, 1233124512,   12312321])"
      ]
     },
     "execution_count": 20,
     "metadata": {},
     "output_type": "execute_result"
    }
   ],
   "source": [
    "a"
   ]
  },
  {
   "cell_type": "code",
   "execution_count": 21,
   "id": "4502b101",
   "metadata": {},
   "outputs": [
    {
     "data": {
      "text/plain": [
       "array([   3213213,     213123, 1233124512,   12312321])"
      ]
     },
     "execution_count": 21,
     "metadata": {},
     "output_type": "execute_result"
    }
   ],
   "source": [
    "a"
   ]
  },
  {
   "cell_type": "code",
   "execution_count": 22,
   "id": "8c1749fe",
   "metadata": {},
   "outputs": [
    {
     "data": {
      "text/plain": [
       "array([   3213213,     213123, 1233124512,   12312321])"
      ]
     },
     "execution_count": 22,
     "metadata": {},
     "output_type": "execute_result"
    }
   ],
   "source": [
    "a"
   ]
  },
  {
   "cell_type": "code",
   "execution_count": 23,
   "id": "a66591d8",
   "metadata": {},
   "outputs": [
    {
     "data": {
      "text/plain": [
       "array([   3213213,     213123, 1233124512,   12312321])"
      ]
     },
     "execution_count": 23,
     "metadata": {},
     "output_type": "execute_result"
    }
   ],
   "source": [
    "a"
   ]
  },
  {
   "cell_type": "code",
   "execution_count": 24,
   "id": "dc026205",
   "metadata": {},
   "outputs": [],
   "source": [
    " #Slicing in Numpy Array does not create a new copy but a view of that array(same reference to the same object)"
   ]
  },
  {
   "cell_type": "code",
   "execution_count": 25,
   "id": "64b184c4",
   "metadata": {},
   "outputs": [],
   "source": [
    "b = a[2:4]"
   ]
  },
  {
   "cell_type": "code",
   "execution_count": 26,
   "id": "4c3d08c7",
   "metadata": {},
   "outputs": [
    {
     "data": {
      "text/plain": [
       "array([1233124512,   12312321])"
      ]
     },
     "execution_count": 26,
     "metadata": {},
     "output_type": "execute_result"
    }
   ],
   "source": [
    "b"
   ]
  },
  {
   "cell_type": "code",
   "execution_count": 27,
   "id": "6f728b39",
   "metadata": {},
   "outputs": [],
   "source": [
    "b[:]=111111"
   ]
  },
  {
   "cell_type": "code",
   "execution_count": 28,
   "id": "ab70c303",
   "metadata": {},
   "outputs": [
    {
     "data": {
      "text/plain": [
       "array([111111, 111111])"
      ]
     },
     "execution_count": 28,
     "metadata": {},
     "output_type": "execute_result"
    }
   ],
   "source": [
    "b"
   ]
  },
  {
   "cell_type": "code",
   "execution_count": 29,
   "id": "5f8a4d36",
   "metadata": {},
   "outputs": [
    {
     "data": {
      "text/plain": [
       "array([3213213,  213123,  111111,  111111])"
      ]
     },
     "execution_count": 29,
     "metadata": {},
     "output_type": "execute_result"
    }
   ],
   "source": [
    "a"
   ]
  },
  {
   "cell_type": "code",
   "execution_count": null,
   "id": "b267c563",
   "metadata": {},
   "outputs": [],
   "source": []
  }
 ],
 "metadata": {
  "kernelspec": {
   "display_name": "Python 3",
   "language": "python",
   "name": "python3"
  },
  "language_info": {
   "codemirror_mode": {
    "name": "ipython",
    "version": 3
   },
   "file_extension": ".py",
   "mimetype": "text/x-python",
   "name": "python",
   "nbconvert_exporter": "python",
   "pygments_lexer": "ipython3",
   "version": "3.8.8"
  }
 },
 "nbformat": 4,
 "nbformat_minor": 5
}
