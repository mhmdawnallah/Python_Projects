{
 "cells": [
  {
   "cell_type": "code",
   "execution_count": 38,
   "id": "da5c3123",
   "metadata": {},
   "outputs": [],
   "source": [
    "#--------- -2 ------ -1 ------- 0 ------ 1 -------  2 ------"
   ]
  },
  {
   "cell_type": "code",
   "execution_count": 42,
   "id": "fd97df82",
   "metadata": {},
   "outputs": [],
   "source": [
    "import numpy as np\n",
    "from numpy.random import randn"
   ]
  },
  {
   "cell_type": "code",
   "execution_count": 47,
   "id": "5d2a4f56",
   "metadata": {},
   "outputs": [
    {
     "data": {
      "text/plain": [
       "-0.21126306824361468"
      ]
     },
     "execution_count": 47,
     "metadata": {},
     "output_type": "execute_result"
    }
   ],
   "source": [
    "randn() # Normally Distributed, Random Number with mean of Zero, Standrad Deviation of One\n"
   ]
  },
  {
   "cell_type": "code",
   "execution_count": 78,
   "id": "51199eea",
   "metadata": {},
   "outputs": [
    {
     "name": "stdout",
     "output_type": "stream",
     "text": [
      "1.0862540834654042\n",
      "Greater than 1\n"
     ]
    }
   ],
   "source": [
    "#--------- -2 ------ -1 ------- 0 ------ 1 -------  2 ------\n",
    "#If Statement\n",
    "answer = None\n",
    "x = randn()\n",
    "if x > 1:\n",
    "    answer = \"Greater than 1\"\n",
    "print(x)\n",
    "print(answer)\n"
   ]
  },
  {
   "cell_type": "code",
   "execution_count": 81,
   "id": "3e459edb",
   "metadata": {},
   "outputs": [
    {
     "name": "stdout",
     "output_type": "stream",
     "text": [
      "-1.2089466179397048\n",
      "Less than 1\n"
     ]
    }
   ],
   "source": [
    "#--------- -2 ------ -1 ------- 0 ------ 1 -------  2 ------\n",
    "#Else Statements\n",
    "answer = None\n",
    "x = randn()\n",
    "if x > 1:\n",
    "    answer = \"Greater than 1\"\n",
    "else:\n",
    "    answer = \"Less than 1\"\n",
    "print(x)\n",
    "print(answer)\n"
   ]
  },
  {
   "cell_type": "code",
   "execution_count": 83,
   "id": "63857a40",
   "metadata": {},
   "outputs": [
    {
     "name": "stdout",
     "output_type": "stream",
     "text": [
      "0.006431752901511932\n",
      "Between -1 and 1\n"
     ]
    }
   ],
   "source": [
    "#--------- -2 ------ -1 ------- 0 ------ 1 -------  2 ------\n",
    "#Nested Statements\n",
    "answer = None\n",
    "x = randn()\n",
    "if x > 1:\n",
    "    answer = \"Greater than 1\"\n",
    "else:\n",
    "    if x >= -1:\n",
    "        answer = \"Between -1 and 1\"\n",
    "    else:\n",
    "        answer = \"Less than -1\"\n",
    "print(x)\n",
    "print(answer)\n"
   ]
  },
  {
   "cell_type": "code",
   "execution_count": 84,
   "id": "e0399726",
   "metadata": {},
   "outputs": [
    {
     "name": "stdout",
     "output_type": "stream",
     "text": [
      "-0.10106910143705086\n",
      "Between -1 and 1\n"
     ]
    }
   ],
   "source": [
    "#--------- -2 ------ -1 ------- 0 ------ 1 -------  2 ------\n",
    "#Chained Statements\n",
    "answer = None\n",
    "x = randn()\n",
    "if x > 1:\n",
    "    answer = \"Greater than 1\"\n",
    "elif x >= -1:\n",
    "    answer = \"Between -1 and 1\"\n",
    "else:\n",
    "    answer = \"Less than -1\"\n",
    "print(x)\n",
    "print(answer)\n"
   ]
  },
  {
   "cell_type": "code",
   "execution_count": 224,
   "id": "cd8acb0d",
   "metadata": {},
   "outputs": [
    {
     "name": "stdout",
     "output_type": "stream",
     "text": [
      "-0.569415649889793\n"
     ]
    }
   ],
   "source": [
    " #--------- -2 ------ -1 ------- 0 ------ 1 -------  2 ------\n",
    "#If Statement\n",
    "answer = None\n",
    "x = randn()\n",
    "print(x)"
   ]
  }
 ],
 "metadata": {
  "kernelspec": {
   "display_name": "Python 3",
   "language": "python",
   "name": "python3"
  },
  "language_info": {
   "codemirror_mode": {
    "name": "ipython",
    "version": 3
   },
   "file_extension": ".py",
   "mimetype": "text/x-python",
   "name": "python",
   "nbconvert_exporter": "python",
   "pygments_lexer": "ipython3",
   "version": "3.8.8"
  }
 },
 "nbformat": 4,
 "nbformat_minor": 5
}
