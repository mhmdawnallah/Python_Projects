{
 "cells": [
  {
   "cell_type": "code",
   "execution_count": 8,
   "id": "5e3552e8",
   "metadata": {},
   "outputs": [
    {
     "name": "stdout",
     "output_type": "stream",
     "text": [
      "67.89\n"
     ]
    }
   ],
   "source": [
    "\n",
    "# Assignment to Prove Normal Probability Distribution, Law of Large Numbers\n",
    "# as N goes to Infinity The Experimental Probability (Sample Mean Value) of X \n",
    "# The more it goes nearer to Theoratical Probability (Expected Value) (Population Mean)\n",
    "   \n",
    "import numpy as geek\n",
    "   \n",
    "# 1D Array\n",
    "array = geek.random.randn(10000)\n",
    "array_size = array.size\n",
    "\n",
    "n = 0;\n",
    "for i in array:\n",
    "    if i<=1 and i >= -1:\n",
    "       n = n + 1\n",
    "print((n / array_size) * 100 )"
   ]
  }
 ],
 "metadata": {
  "kernelspec": {
   "display_name": "Python 3",
   "language": "python",
   "name": "python3"
  },
  "language_info": {
   "codemirror_mode": {
    "name": "ipython",
    "version": 3
   },
   "file_extension": ".py",
   "mimetype": "text/x-python",
   "name": "python",
   "nbconvert_exporter": "python",
   "pygments_lexer": "ipython3",
   "version": "3.8.8"
  }
 },
 "nbformat": 4,
 "nbformat_minor": 5
}
